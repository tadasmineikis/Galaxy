{
 "cells": [
  {
   "cell_type": "code",
   "execution_count": 2,
   "metadata": {
    "collapsed": true
   },
   "outputs": [],
   "source": [
    "import pandas as pd\n",
    "from matplotlib import rc\n",
    "#rc('font',**{'family':'sans-serif','sans-serif':['Helvetica']})\n",
    "## for Palatino and other serif fonts use:\n",
    "#rc('font',**{'family':'serif','serif':['Palatino']})\n",
    "rc('text', usetex=True)"
   ]
  },
  {
   "cell_type": "code",
   "execution_count": 3,
   "metadata": {
    "collapsed": false
   },
   "outputs": [],
   "source": [
    "PATH=\"\""
   ]
  },
  {
   "cell_type": "markdown",
   "metadata": {},
   "source": [
    "# Programinio paketo diegimo procedūra"
   ]
  },
  {
   "cell_type": "code",
   "execution_count": null,
   "metadata": {
    "collapsed": true
   },
   "outputs": [],
   "source": []
  },
  {
   "cell_type": "markdown",
   "metadata": {},
   "source": [
    "# Modelio įvedimo failų paruošimas"
   ]
  },
  {
   "cell_type": "markdown",
   "metadata": {},
   "source": [
    "Prieš paleidžiant modelį reikia paruošti įvesties failus:\n",
    " 1. Disko sukimosi kreivė.\n",
    " 2. Dujų akrecijos galaktikos diske radialinis profilis.\n",
    " 3. Dujų akrecijos galaktikoje laiko evoliucija.\n",
    " 4. SSP evoliucijos failai.\n",
    " "
   ]
  },
  {
   "cell_type": "markdown",
   "metadata": {},
   "source": [
    "### 1. Disko sukimosi kreivė\n",
    "\n",
    "Failas prasideda neribotu komentarų kiekiu, kurie kiekvienoje naujoje eilutėje prasideda '#' simboliu.\n",
    "\n",
    "Failas turi turėti 2 stulpelius:\n",
    "  - pirmąjame nurodyti modelio žiedų radialiniai atstumai;\n",
    "  - antrąjame nurodytas modelio žiedo sukimosi greitis km/s. Skaitoma į float kintamųjų masyvą.\n",
    "  \n",
    "##### Pastabos:\n",
    " - Pirmojo sukimosi kreivės stulpelio, kuriame nurodyti atstumai modelis nepanaudoja, jis reikalingas tik modelio naudotojo patogumui. Modelio žiedų radialiniai atstumai užduodami modelio parametrų faile."
   ]
  },
  {
   "cell_type": "code",
   "execution_count": 4,
   "metadata": {
    "collapsed": false
   },
   "outputs": [
    {
     "name": "stdout",
     "output_type": "stream",
     "text": [
      "#r[kpc] vr[km/s]\n",
      "      0.00 0.00\n",
      "      0.05 1.00\n",
      "      0.10 2.00\n",
      "      0.15 3.00\n",
      "      0.20 4.00\n"
     ]
    }
   ],
   "source": [
    "# Failo pavyzdys\n",
    "rotcurv=pd.read_csv(PATH+'rotcurv.dat')\n",
    "print rotcurv.head().to_string(index=False)"
   ]
  },
  {
   "cell_type": "markdown",
   "metadata": {},
   "source": [
    "### 2. Dujų akrecijos galaktikoje laiko evoliucija\n",
    "\n",
    "Failas prasideda neribotu komentarų kiekiu, kurie kiekvienoje naujoje eilutėje prasideda '#' simboliu.\n",
    "\n",
    "Failas turi turėti 2 stulpelius:\n",
    "  - pirmąjame nurodyti modelio amžiai;\n",
    "  - antrąjame nurodyta į galaktiką įkritusi dujų masė Saulės masėmis. Skaitoma į float kintamųjų masyvą.\n",
    "  \n",
    "##### Pastabos:\n",
    " - Pirmasis failo stulpelis su laiko žingsnių amžiais programoje nenaudojamas, jis reikalingas tik modelio naudotojo patogumui. Modelio laiko žingsniai užduodami modelio parametrų faile.\n",
    " - Jeigu failo eilučių skaičius bus mažesnis nei modelio parametrų faile nurodytas laiko žingsnių kiekis, programa išluš\n",
    " - Susumuota visa į galaktiką įkrentančių dujų masė išvedama į terminalą paleidžiant programą"
   ]
  },
  {
   "cell_type": "code",
   "execution_count": 5,
   "metadata": {
    "collapsed": false
   },
   "outputs": [
    {
     "name": "stdout",
     "output_type": "stream",
     "text": [
      "#time[Gyr] acc[Msol]\n",
      "    0.000 36943.350\n",
      "    0.005 36943.350\n",
      "    0.010 36943.350\n",
      "    0.015 36924.575\n",
      "    0.020 36905.800\n"
     ]
    }
   ],
   "source": [
    "# Failo pavyzdys\n",
    "rotcurv=pd.read_csv(PATH+'acc_time.dat')\n",
    "print rotcurv.head().to_string(index=False)"
   ]
  },
  {
   "cell_type": "markdown",
   "metadata": {},
   "source": [
    "### 3. Dujų akrecijos galaktikos diske radialinis profilis\n",
    "\n",
    "Failas prasideda neribotu komentarų kiekiu, kurie kiekvienoje naujoje eilutėje prasideda '#' simboliu\n",
    "\n",
    "Failas turi turėti 2 stulpelius:\n",
    "  - pirmąjame nurodyti modelio žiedų radialiniai atstumai;\n",
    "  - antrąjame nurodytas radialinis dujų akrecijos profilis.  Skaitoma į float kintamųjų masyvą. Šis profilis nurodo, kokiomis proporcijomis dujos įkritusios į galaktiką bus paskirstytos diske. Pvz.: jei modelis būtų sudarytas iš 3 žiedų su proflio vertėmis 1, 0.5, 0.1, į centrinę ląstelę įkritusių dujų būtų 2 kart daugiau nei į 2-ąją ir 10 kart daugiau nei į 3-ąją.\n",
    "  \n",
    "##### Pastabos.\n",
    " - Pirmasis failo stulpelis su radialiniais atstumais modelyje nenaudojamas. Jis skirtas tik programos naudotojo patogumui\n",
    " - Radialinio profilio vienetai nėra svarbūs. Programai nuskaičius failą profilis yra pernormuojamas taip, kad visų modelio ląstelių suma būtų lygi 1. Pateiktame faile naudojami vienetai Msol/pc^2, nes tuomet labai patogu tokį profilį interpretuoti, kaip dujų ir žvaigždžių paviršinių tankių profilių sumą."
   ]
  },
  {
   "cell_type": "code",
   "execution_count": 6,
   "metadata": {
    "collapsed": false
   },
   "outputs": [
    {
     "name": "stdout",
     "output_type": "stream",
     "text": [
      "#r[kpc] Tmas[Msol/pc^2]\n",
      "            0.00 17.33\n",
      "            0.05 15.33\n",
      "            0.10 13.64\n",
      "            0.15 12.45\n",
      "            0.20 11.57\n"
     ]
    }
   ],
   "source": [
    "# Failo pavyzdys\n",
    "rotcurv=pd.read_csv(PATH+'acc_rad.dat')\n",
    "print rotcurv.head().to_string(index=False)"
   ]
  },
  {
   "cell_type": "markdown",
   "metadata": {},
   "source": [
    "### 4. SSP (simple stellar population) evoliucijos failai\n",
    "\n",
    "Modelio veikimui reikalingi:\n",
    "- [gas_matrix.pegase] SSP ląstelės dujoms grąžinama dujų masė (M_gas) ties kiekvienu laiko žingsniu ir metalingumu. Stulpeliuose nurodyti skirtingi metalingumai, o eilutėse skirtingi laiko žingsniai.\n",
    "\n",
    "- [metals_matrix.pegase] SSP ląstelės dujoms grąžinama metalų (M_gas x Z_gas) masė. Stulpeliuose nurodyti skirtingi metalingumai, o eilutėse skirtingi laiko žingsniai.\n",
    "\n",
    "- [ages] amžių failas, kur nurodomi SSP failo eilučių laiko žingsniai. Eilučių skaičius turi atitikti eilučių skaičių mgas_matrix.pegase ir metals_matrix.pegase failuose.\n",
    "\n",
    "- [zlist] metalingumų failas, kur nurodamas SSP failo stulpelių metalingumai. Eilučių skaičius turi atitikti stulpelių skaičių mgas_matrix.pegase ir metals_matrix.pegase failuose.\n",
    "\n",
    "- [phot_u.flux] fotometrijos failas. Jis nėra būtinas modelio veikimui, tačiau reikalingas norint išvesti fotometrijos rezultatus. Stulpeliuose nurodomas sunormuotas į 1 Msol fliuksas ties skirtingais metalingumais, o eilutėse ties skirtingais laiko žingsniais.\n",
    "\n",
    "Šių failų pavyzdžiai pateikiami __description/__ direktorijoje.\n",
    "Šių failų [phot-u.flux, metals-matrix.pegase, gas-matrix.pegase] paruošimo skriptai pateikiami __tools/__ direktorijoje "
   ]
  },
  {
   "cell_type": "markdown",
   "metadata": {},
   "source": [
    "# Modelio parametrų failų paruošimas"
   ]
  },
  {
   "cell_type": "markdown",
   "metadata": {},
   "source": [
    "### 1. Sintetinės fotometrijos parametrų failas"
   ]
  },
  {
   "cell_type": "markdown",
   "metadata": {},
   "source": [
    "Programa skaitydama parametų failą eilutes prasidedančias simboliu # praleidžia kaip komentarus. Nesant šio simbolio eilutė interpretuojama pagal nurodytą parametro vardą.\n",
    "\n",
    "1. ISO num_of_files :\n",
    "    - num_of_files integer tipo kintamas, po šio parametro programa sekančioje eilutėje ieškos nurodyto kelio iki kiekvieno izochronos failo.\n",
    "2. IMF sampling_method integration num_of_rows num_of_cols :\n",
    "    - smapling_method : string tipo parametras leidžiantis pasirinkti skirtingus pradinių masių funkcijos generavimo metodus, dažniausiai naudojama opcija - 'stochastic'\n",
    "    - integration : int tipo parametras, kuris buvo naudingas generuojant spiečių integruotą fotometriją, leisdavo pasirinkti, kurią dalį žvaigždžių šviesio sumuoti stochastiškai, o kurią analitiškai. Generuojant CMD reikia nustayti vertę '0'\n",
    "    - num_of_rows : int tipo kintamasis, nurodantis kiek intervalų turės pradinių masių funkcija.\n",
    "    - num_of_cols : int tipo kintamasis, nurodantis kiek stulpelių turės pradinės masių funkcijos aprašymas. Pirmąjame stulpelyje nurodomas masių intervalo apatinė masė, antrąjame - viršutinė, trečiąjame - laipsninis rodiklis, nurodomas $-\\alpha$ forma.\n",
    "3. SEED seed:\n",
    "    - seed : int tipo atsitiktinių skaičių generatoriaus seed'as. Ši eilutė užpildoma automatiškai leidžiant python script'ą\n",
    "4. BINNARY_FRACTION binnary_fraction\n",
    "    - binnary_fraction : float tipo parametras nurodantis dvinarių sistemų dalį žvaigždžių populiacijoje\n",
    "5. LIMIT filter_num magnitude_cut\n",
    "    - filter_num : int tipo parametras atitinkantis parametrą, pagal kurį apriboti išvedamų žvaigždžių kiekį. filter_num atitinka stulpelį, iš užduoto izochronos failo.\n",
    "    - magnitude_cut : float tipo kintamasis pagal kurį apribojamas išvedimas.\n",
    "6. THREADS num_of_threads\n",
    "    - num_of_threads : int tipo kitamasis, generuojant CMD žvaigždes veikia tik su opcija '1'\n",
    "7. GALEMO_RESULTS\n",
    "    - nurodo nuskaitomo failo tipą, šis eilutė automatiškai užpildoma leidžiant python script'ą\n",
    "8. OUT\n",
    "  - nurodo išvedimo failo vardą, šis eilutė automatiškai užpildoma leidžiant python script'ą"
   ]
  },
  {
   "cell_type": "code",
   "execution_count": 11,
   "metadata": {
    "collapsed": false
   },
   "outputs": [
    {
     "name": "stdout",
     "output_type": "stream",
     "text": [
      "#============================================\n",
      "iso 3\n",
      "iso_bank/UBV/parsec1.2s_dense/icz0001.dat\n",
      "iso_bank/UBV/parsec1.2s_dense/icz0002.dat\n",
      "iso_bank/UBV/parsec1.2s_dense/icz0003.dat\n",
      "#********************************************\n",
      "imf stochastic 0 4 3\n",
      "0.01 0.08 -0.3\n",
      "0.08 0.5 -1.3\n",
      "0.5 1.0 -2.3\n",
      "1.0 120 -2.7\n",
      "#********************************************\n",
      "SEED\n",
      "BINARY_FRACTION 0.\n",
      "#============================================\n",
      "limit 4 4\n",
      "#********************************************\n",
      "threads 1\n",
      "GALEMO_RESULTS\n",
      "#\n",
      "OUT\n",
      "#********************************************\n"
     ]
    }
   ],
   "source": [
    "#parametrų failo pavyzdys\n",
    "pfile=open('template')\n",
    "for line in pfile:\n",
    "    print line.rstrip('\\n')"
   ]
  },
  {
   "cell_type": "markdown",
   "metadata": {},
   "source": [
    "### 2. Modelio parametrų failas"
   ]
  },
  {
   "cell_type": "markdown",
   "metadata": {},
   "source": [
    "1. TIMESTEP timestep:\n",
    "    - timestep [Myr]: int tipo kintamasis nurodantis modelio integravimo laiko žingsnį\n",
    "2. GALAXY_AGE galaxy_age:\n",
    "    - galaxy_age [Myr]: int tipo kintamasis nurodantis modelio integravimo laiką\n",
    "3. SN_TIMESCALE sn_timescale:\n",
    "    - sn_timescale [Myr]: int tipo kitamasis nurodantis laiko intervalą, kurį ląstelėje bus palaikomas mažas dujų tankis, praturtintų metalais dujų praradimas iš galaktikos ir visiškai negalima žvaigždėdara\n",
    "4. SEED seed:\n",
    "    - seed : int tipo kitamasis nurodantis atsitiktinių skaičių generatoriaus pradinį 'seed'. Naudojamas norint atkartoti modeliavimo rezultatus\n",
    "5. DISTANCE distance:\n",
    "    - distance [Mpc]: float tipo kintamasis nurodantis modeliuojamos galaktikos atstumą. Naudojams mag/arcsec^2 paviršinio šviesio išvedimui ouput failuose\n",
    "6. GRID_SIZE grid_size grid_buffer\n",
    "    - grid_size: int tipo kintamasis nurodantis disko žiedų skaičių\n",
    "    - grid_buffer: int tipo kintamasis nurodantis kiek žiedų pridėti prie 'grid_size' kraštiniams efektams modelyje panaikinti, priklausomai nuo grid_size galima pridėti nuo0 iki 20% grid_size vertės\n",
    "7. CELL_SIZE cell_size\n",
    "    - cell_size [pc]: int tipo kintamasis nurodantis ląstelės fizinius matmenis\n",
    "8. GAS_DIFFUSION gas_diff\n",
    "    - gas_diff [Myr]: float tipo kintamasis nurodantis dujų tankio netolygumų tarp ląstelių išslyginimo laiko skalę\n",
    "9. STELLAR_DIFFUSION stell_diff mass_treshold\n",
    "    - stellar diff: float tipo kintamasis nurodantis kuri žvaigždžių masės dalis per laiko žingsnį prarandama/gaunama į/iš kaimyninių ląstelių\n",
    "    - mass_treshold [Msol]: float tipo kintamasis nurodantis minimalią apsikeitimo žvaigždėmis masę tarp _visų kaimyninių ląstelių_, jei suminė apsikeitimo masė yra mažesnė už šį parametrą, apsikeitimas žvaigždėmis tarp ląstelių nevyksta.\n",
    "11. SFE sfe\n",
    "    - sfe : float arba string tipo kintamas. Jei tai float kintamasis, jis nurodo žvaigždėdaros efektyvumą įvykus žybsniui ląstelėje (pvz.:0.05 atitinka 5% efektyvumą); jei tai string kintamasis, jis interpretuojamas kaip failo vardas, kuriame nurodytos sfe vertės kiekvienam modelio laiko žingsniui.\n",
    "12. TRIGGERED trig trig_time\n",
    "    - trig: float arba string tipo kintamasis. Jei tai float kintamasis, jis nurodo indukuotos žvaigždėdaros tikimybę kaimyninėse ląstelėse (kiekvienai ląstelei atskirai, suminė tikimybė būtų kaimynių skaičius x trig). Jei tai string kintamasis, jis nurodo failą kur trig vertės nurodytos kiekvienam modelio laiko žingsniui\n",
    "    - trig_time [time steps] : int tipo kintamasis kuris nurodo kuriuo laiko žingsniu po žvaigždėdaros žybsnio vyksta kaimyninių ląstelių indukavimas (pvz.:1 - sekančiu laiko žingsniu, 2 - po dviejų laiko žingsnių)\n",
    "13. SFE_POW sfe_pow\n",
    "    - sfe_pow: float arba string kintamasis. Jei tai float kintamasis, jis nurodo žvaigždėdaros efektyvumo priklausomybės nuo dujų tankio laispninį rodiklį (pvz.: 0 -- nepriklauso, 1 -- tiesiškai, 2 -- kvadratinė priklausomybė); jei tai string kintamasis, jis nurodo failą, kur šis parametras nurodytas kiekvienam modelio laiko žingsniui\n",
    "14. NRM_SFE nrm_sfe\n",
    "    - nrm_sfe [Msol/pc^2] - float tipo kintamasis, kuris nurodo ties kokiu dujų tankiu normuojamas žvaigždėdaros efektyvumo dėsnis. Pvz.: jei nrm_sfe=10 Msol/pc^, tai reiškia, kad ląstelės dujų pavišiniui tankiui esant 20 Msol/pc^, įvykus žvaigždėdaros žybsniui SFE bus lygus \n",
    "    SFE=$\\epsilon \\cdot\\left(\\frac{ 20~M_{\\odot}\\cdot \\rm{pc}^{-2}}{ 10~ M_{\\odot}\\cdot \\rm{pc}^{-2}}\\right)^{\\alpha}$\n",
    "    \n",
    "15. MINIMUM_SFE minimum_sfe\n",
    "    - minimum_sfe : float tipo kintamsis nurodantis minimalų žvaigždėdaros efektyvumą žvaigždėdaros žybsnio metu, jei žvaigždėdaros efektyvumas dėl dujų tankio pagal užduotą dėsnį būtų mažesnis.\n",
    "16. MAXIMUM_SFE maximum_sfe\n",
    "    - maximum_sfe : float tipo kintamasis nurodantis maksimalų žvaigždėdaros efektyvumą žvaigždėdaros žybsnio metu, jei pagal užduotą žvaigždėdaros efektyvumas dėl dujų tankio pagal užduotą dėsnį būtų didesnis\n",
    "17. TRIGG_MASS minimum_mass trigg_mass\n",
    "    - minimum_mass [Msol] : float tipo kintamasis, nurodantis, kokios mažiausios susiformavusios žvaigždžių masės žvaigždėdaros žybsnis gali vykti ląstelėje. Jei žvaigždžių masė gimusi ląstelėje būtų mažesnė už šį dydi, žvaigždėdaros žybsnis nevyksta\n",
    "    - trigg_mass [Msol] : float tipo kintamasis, nurodantis kokios masės turi būti susiformavusi žvaigždžių populiacija po žvaigždėdaros žybsnio, kag galėtų indukuoti kaimynines ląsteles\n",
    "18. GAS2_SPONT gas2_spont\n",
    "    - gas2_spont : float tipo kintamsis nurodantis kiek spotaninės žvaigždėdaros žybsnių vidutiniškai vyks per vieną laiko žingsnį modelyje. Tikimybė vykti žvaigždėdarai ląstelėje yra proporcinga dujų paviršinio tankio kvadratui.\n",
    "19. GAS_SFR_TRESHOLD gas_sfr_treshold\n",
    "    - gas_sfr_treshold [Msol/pc^2] : float tipo kintamasis nurodantis ribinį dujų paviršinį tanki žvaigždėdarai vykti. Jei ląstelės paviršinis dujų tankis yra mžesnis už ribinį, žvaigždėdaros tikimybė lastelėje tiesiškai mažinama.\n",
    "20. OUTFLOW eta critical_velocity\n",
    "    - eta: float tipo parametras nurodantis kuri dalis metalais praturtintų gražinamų visų evoliucionuojančių žvaigždžių populiacijų pararandama.\n",
    "    - critical_velocity : float tipo parametras nurodantis kokios energijos turi būti žvaigždėdaros žybsnis, kad išmestų dujas į tarp galaktinę erdvę. Parametro fizikinė prasmė - besiplečinčio superburbulo greitis prieš 'greitėjimą'. 1 atitinka 20 km/s, pagal straipsnio autorius, pakankamas greitis išmesti dujas iš Paukščių Tako disko.\n",
    "21. ACC_METALLICITY acc_metallicity\n",
    "    - acc_emtalicity : float tipo parametras nurodantis akrecijos dujų metalingumą diske užduodantį failą.\n",
    "22. ACRETION acc_rad_file acc_time_file\n",
    "    - acc_rad_file : string tipo parametras nurodantis akrecijos radialinę priklausomybę diske užduodantį failą.\n",
    "    - acc_time_file : string tipo kintamasis nurodantis akrecijos laiko priklausomybės galaktikoje failą.\n",
    "23. OUTPUT num_of_types types[] num_of_times times[]\n",
    "    - num_of_types : int tipo kintamasis kuris nurodo kiek bus išvedama failų tipų\n",
    "    - types[] : string tipo kintamųjų grupė, kuri nurodo išvedimo tipus, galimos opcijos: 0d, 1d, 2d\n",
    "    - num_of_times : int tipo kintamasis nurodantis kiek bus išvedimo laikų\n",
    "    - times[] [Myr]: int tipo kintamųjų grupė, nurodanti kuriais modelio amžiais išvesti nurodytus failus\n",
    "24. NUM_OF_THREADS num_of_threads\n",
    "    - num_of_threads : int tipo kintamasis nurodantis modeliui skaičiuoti naudojamų gijų skaičių.\n",
    "25. CMD_LIMIT mass_limit age_limit\n",
    "    - mass_limit [Msol] : float tipo kintamasis nurodantis mažiausią išvedamos SSP populiacijos masę\n",
    "    - age_limit [Myr] : float tipo kintamasis nurodantis išvedamos populiacijos maksimlų amžių.\n",
    "26. ROTATION rotation_curve_file\n",
    "    - rotation_curve_file : string tipo kintamasis nurodantis disko suskimosi kreivę užduodančio failą vardą\n",
    "27. PEGASE mgas_file zgas_file\n",
    "    - mgas_file : string tipo kintamasis su failo vardu, kuriame yra SSP prarandamų dujų kiekiai kiekvienam SSP metalingumui ir amžiui\n",
    "    - zgas_file : string tipo kintamsis su failo vardu, kuriame yra SSP prarandamų metalų (Z_gas x M_gas) kiekiai kiekvienam SSP amžiui ir metalingumui.\n",
    "29. SSP ages zlist\n",
    "    - ages : string tipo kintamasis nurodantis failo vardą su modelio laiko žingsnių amžiais\n",
    "    - zlist : string tipo kintamasis nurodantis failą su SSP metalingumo žingsniais\n",
    "30. PHOTOMETRY num_of_filters\n",
    "    - num_of_filters : int tipo kintamsis nurodantis kiek SSP filtrų bus naudojama išvedime\n",
    "    - sekančiose eilutėse nurodoma filter_file filter_name porų kiek  užduota parametru num_of_filters."
   ]
  },
  {
   "cell_type": "markdown",
   "metadata": {},
   "source": [
    "# Modelio paleidimas\n",
    "\n",
    "## paleidimas naudojant python pagalbinį skriptą\n",
    "\n",
    "Pasitikirnam, ar visi reikalingi failai yra direktorijoje, t.y.:\n",
    "  - akreijos radialinio profilio failas\n",
    "  - akrecijos laiko evoliucijos failas\n",
    "  - sukimosi kreivė\n",
    "  - modelio parametrų failas\n",
    "  - žvaigždžių sintetinės fotometrijos parametrų failas, pavadintas \"template\"\n",
    "  \n",
    "RUN direktorijoje paleidžiam python script'ą su modelio parametrų failu kaip argumentu:\n",
    "> ./galemo.py modelio_parametrų_failas iteracijų_skaičius\n",
    "\n",
    " "
   ]
  },
  {
   "cell_type": "markdown",
   "metadata": {},
   "source": [
    "# Modelio išvesties failai\n",
    "\n",
    "Modelio išvedimo failai yra sugrupuoti į 4 kategorijas:\n",
    "    - 0d failuose išvedamos globalūs visos glaktikos fizikiniai parametrai;\n",
    "    - 1d failuose išvedami suvidurkinti azimutiškai vienos ląstelės pločio žieduose galaktikos parametrai;\n",
    "    - 2d failuose išvedami visų disko ląstelių fizikiniai parametrai;\n",
    "    - cmd failuose išvedami sintetiniai žvaigždžių fotometrijos katalogai."
   ]
  },
  {
   "cell_type": "markdown",
   "metadata": {
    "collapsed": true
   },
   "source": [
    "### 0d išvedimai failo stulpelių paaiškinimai: \n",
    "- t [Myr]: laiko žingsnis\n",
    "- SP_E: spontaninės žvaigždėdaros žybsniai galaktikoje per laiko žingsnį\n",
    "- TR_E: indukuotos žvaigždėdaros žybsniai galaktikoje per laiko žingsnį\n",
    "- ACC [Msol/yr]: dujų akrecijos sparta galaktikoje\n",
    "- ST_GAS_ACC [Msol/yr]: evoliucionuojančių SSP gražinamų dujų sparta\n",
    "- OTFL [Msol/yr]: prarandamų praturtintų sunkiaisiais metalais dujų sparta\n",
    "- STARS [Msol]: žvaigždžių masė modelio diske\n",
    "- GAS [Msol]: dujų masė modelio diske\n",
    "- ZGAS: dujų metalingumas modelio diske\n",
    "- TSFR [Msol/yr]: žvaigždėdaros sparta galaktikoje\n",
    "- ModelAge [Myr]: modelio galautinis amžius\n",
    "- iteration: modelio iteracijos indeksas"
   ]
  },
  {
   "cell_type": "markdown",
   "metadata": {},
   "source": [
    "### 1d išvedimo failo stulpelių paaiškinimai\n",
    "\n",
    "- r [kpc] : žiedo vidurio radialinis atstumas iki disko centro  \n",
    "- mgas [Msol/pc^2] : disko žiedo dujų vidutinis paviršinis tankis  \n",
    "- zgas : disko žiedo dujų medianinis metalingumas  \n",
    "- mstr [Msol/pc^2] : disko žiedo žvaigždžių vidutinis paviršinis tankis  \n",
    "- SF_events : suminis žvaigždėdaros žybsnių skaičius disko žiede per visą modeliavimo laiką \n",
    "- SP_events : suminis spontaninės žvaigždėdaros žybsnių skaičius žiede per visą modeliavimo laiką \n",
    "- SFR [Msol/pc^2/Myr] : žvaigždėdaros spartos paviršinis tankis diske žiede  \n",
    "- SFR100 [Msol/pc^2/ (10 x timesteps) Myr] : žvaigždėdaros spartos per paskutinius 10 laiko žingnsių paviršinis tankis  \n",
    "- ACTIVE : jeigu aktyvuota, skaičiuoja suminį ląstelių galinčių formuoti žvaigždes skaičių \n",
    "- Tgas [Msol/pc^2] : iki išvedimo laiko į disko ląsteles įkritusių dujų pavišinis tankis įkritusių (jei nevykst ažvaigždėdara, turi būti lygus mgas stulpeliui, arba apytiksliai lygus mgas+mstr)\n",
    "- Ogas-tot [Msol] : vidutinė iš 1-os ląstelės prarasta (outflow) praturtinų metalais dujų masė per modeliavimo laiką\n",
    "- Ogas_cur [Msol/pc^2/ (10 x timesteps) Myr] : vidutinė iš 1-os ląstelės prarandama praturtintų dujų masė per 10 laiko žingsnių\n",
    "- Ometals-tot [Msol] : vidutinė iš 1-os ląstelės prarasta metalų masė (Mgas*Zgas) per modeliavimo laiką\n",
    "- Ometals-cur [Msol/pc^2/(10 x timesteps) Myr] : vidutinė iš vienos ląstelės prarandama metalų masė per 10 laiko žingnsių    \n",
    "- ModelAge [Myr]: išvedimo amžius  \n",
    "- iteration : modelio iteracijos indeksas"
   ]
  },
  {
   "cell_type": "markdown",
   "metadata": {},
   "source": [
    "### 2d išvedimo failo stulpelių paaiškinimai:\n",
    "- r [kpc] : ląstelės vidurio radialinis atstumas iki disko centro\n",
    "- x [kpc] : ląstelės centro koordinatė xy plokštumoje\n",
    "- y [kpc] : ląstelės centro koordintaė xy plokštumoje\n",
    "- ref_t [timesteps] : laiko žingsniai praėjo po paskutinio žvaigždėdaros žybsnio ląstelėje\n",
    "- sfr_t [ratio] : dujų masės santykis ląstelėje lyginant su kritiniu tankiu žvaigždėdarai\n",
    "- sp_buff : spotaninės žvaigždėdaros parametras naudotas 'debuggininimui'\n",
    "- mgas [Msol/pc^2] : paviršinis dijų tankis ląstelėjė\n",
    "- zgas : dujų metalingumas ląstelėje\n",
    "- mstr [Msol/pc^2]: žvaigždžių paviršinis tankis ląstelėje\n",
    "- sfe  [] : pakutinio žvaigždėdaros žybsnio efektyvumas (M_str/(M_gas+M_str)) \n",
    "- last_mstr [Msol] : paskutinio žvaigždėdaros žybsnio metu susiformavusios žvaigždžių populiacijos masė\n",
    "- TVEL : dujų praradimo parametras, rodantis besiplečiančio burbulo greičio santyki su kritiniu\n",
    "- rho  : dujų dalelių tankis į cm^3 disko plokštumoje, darant prielaidą, jog dujos diske Z kryptimi pasiskirsčiusios eksponentiškai\n",
    "- N0   : outflow paramertas iš  Baumgartner V., Breitschwerdt, D. 2013, AA, 557, A140 \n",
    "- ModelAge [Myr]: išvedimo amžius\n",
    "- iteration : modelio iteracijos indeksas"
   ]
  },
  {
   "cell_type": "markdown",
   "metadata": {},
   "source": [
    "### cmd išvedimo failo stulpelių paaiškinimai:\n",
    "- r [kpc] : ląstelės centro, kurioje yra žvaigždė, radialinis atstumas nuo galaktikos centro\n",
    "- a [rad] : ląstelės centro, kurioje yra žvaigždės, azimutinė koordiantė išreikštos radianais\n",
    "- x [kpc] : koordinatė xy plokštumoje, su triukšmu paskirstančiu žvaigždes tolygiai ląstelės ribose\n",
    "- y [kpc] : koordinatė xy plokštumoje, su triukšmu paskirstančiu žvaigždes tolygiai ląstelės ribose\n",
    "- age [log_10(t/yr)] : žvaigždei priskirtas artimiausios izochronos amžius\n",
    "- a_age [log_10(t/yr)] : tikrasis žvaigždės amžius\n",
    "- z : žvaigždei priskirtas artimiausisas izochronos metalingumas\n",
    "- a_z : tikrasis žvaigždės metalingumas\n",
    "- mass_i_p [log_10(m/Msol)] : žvaigždės / pirminės dvianrės žvaigždės masė\n",
    "- mass_i_s [log_10(m/Msol)] : -- / antrinės dvinarės žvaigždės masė\n",
    "- p_X [mag] : žvaigždės / pirminės dvianrės sistemos žvaigždės fotometrinis ryškis\n",
    "- s_X [mag] : -- / antrinės dvianrės sistemos žvaigždės fotometrinis ryškis\n",
    "- o_X [mag] : žvaigždės / suminis dvianrės sistemos fotometrinis ryškis\n",
    "- ssp_index : SSP indeksas, kad būtų galima identifikuoti žvaigždes iš tos pačios SSP\n",
    "- ModelAge [Myr] : modelio amžius išvedimo metu\n",
    "- iteration      : modelio iteracijos indeksas"
   ]
  },
  {
   "cell_type": "markdown",
   "metadata": {},
   "source": []
  },
  {
   "cell_type": "code",
   "execution_count": null,
   "metadata": {
    "collapsed": true
   },
   "outputs": [],
   "source": []
  }
 ],
 "metadata": {
  "kernelspec": {
   "display_name": "Python 2",
   "language": "python",
   "name": "python2"
  },
  "language_info": {
   "codemirror_mode": {
    "name": "ipython",
    "version": 2
   },
   "file_extension": ".py",
   "mimetype": "text/x-python",
   "name": "python",
   "nbconvert_exporter": "python",
   "pygments_lexer": "ipython2",
   "version": "2.7.6"
  }
 },
 "nbformat": 4,
 "nbformat_minor": 0
}
