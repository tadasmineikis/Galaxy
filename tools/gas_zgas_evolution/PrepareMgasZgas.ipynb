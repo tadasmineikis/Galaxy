{
 "cells": [
  {
   "cell_type": "markdown",
   "metadata": {},
   "source": [
    "The versions of the python libraries used to produce results"
   ]
  },
  {
   "cell_type": "code",
   "execution_count": 18,
   "metadata": {
    "collapsed": false
   },
   "outputs": [
    {
     "name": "stdout",
     "output_type": "stream",
     "text": [
      "The version_information extension is already loaded. To reload it, use:\n",
      "  %reload_ext version_information\n"
     ]
    },
    {
     "data": {
      "application/json": {
       "Software versions": [
        {
         "module": "Python",
         "version": "2.7.6 64bit [GCC 4.8.2]"
        },
        {
         "module": "IPython",
         "version": "4.2.0"
        },
        {
         "module": "OS",
         "version": "Linux 3.13.0 79 generic x86_64 with Ubuntu 14.04 trusty"
        },
        {
         "module": "numpy",
         "version": "1.11.0"
        },
        {
         "module": "matplotlib",
         "version": "1.5.1"
        }
       ]
      },
      "text/html": [
       "<table><tr><th>Software</th><th>Version</th></tr><tr><td>Python</td><td>2.7.6 64bit [GCC 4.8.2]</td></tr><tr><td>IPython</td><td>4.2.0</td></tr><tr><td>OS</td><td>Linux 3.13.0 79 generic x86_64 with Ubuntu 14.04 trusty</td></tr><tr><td>numpy</td><td>1.11.0</td></tr><tr><td>matplotlib</td><td>1.5.1</td></tr><tr><td colspan='2'>Thu Jun 09 09:52:17 2016 EEST</td></tr></table>"
      ],
      "text/latex": [
       "\\begin{tabular}{|l|l|}\\hline\n",
       "{\\bf Software} & {\\bf Version} \\\\ \\hline\\hline\n",
       "Python & 2.7.6 64bit [GCC 4.8.2] \\\\ \\hline\n",
       "IPython & 4.2.0 \\\\ \\hline\n",
       "OS & Linux 3.13.0 79 generic x86\\_64 with Ubuntu 14.04 trusty \\\\ \\hline\n",
       "numpy & 1.11.0 \\\\ \\hline\n",
       "matplotlib & 1.5.1 \\\\ \\hline\n",
       "\\hline \\multicolumn{2}{|l|}{Thu Jun 09 09:52:17 2016 EEST} \\\\ \\hline\n",
       "\\end{tabular}\n"
      ],
      "text/plain": [
       "Software versions\n",
       "Python 2.7.6 64bit [GCC 4.8.2]\n",
       "IPython 4.2.0\n",
       "OS Linux 3.13.0 79 generic x86_64 with Ubuntu 14.04 trusty\n",
       "numpy 1.11.0\n",
       "matplotlib 1.5.1\n",
       "Thu Jun 09 09:52:17 2016 EEST"
      ]
     },
     "execution_count": 18,
     "metadata": {},
     "output_type": "execute_result"
    }
   ],
   "source": [
    "#%load_ext version_information\n",
    "#%reload_ext version_information\n",
    "#%version_information numpy, matplotlib"
   ]
  },
  {
   "cell_type": "code",
   "execution_count": null,
   "metadata": {
    "collapsed": true
   },
   "outputs": [],
   "source": [
    "# To check you version run this cell\n",
    "%install_ext http://raw.github.com/jrjohansson/version_information/master/version_information.py\n",
    "%load_ext version_information\n",
    "%reload_ext version_information\n",
    "%version_information numpy, scipy, matplotlib"
   ]
  },
  {
   "cell_type": "code",
   "execution_count": 2,
   "metadata": {
    "collapsed": false
   },
   "outputs": [
    {
     "name": "stdout",
     "output_type": "stream",
     "text": [
      "Populating the interactive namespace from numpy and matplotlib\n"
     ]
    }
   ],
   "source": [
    "%pylab inline"
   ]
  },
  {
   "cell_type": "markdown",
   "metadata": {},
   "source": [
    "The path to the pegase files"
   ]
  },
  {
   "cell_type": "code",
   "execution_count": 3,
   "metadata": {
    "collapsed": false
   },
   "outputs": [],
   "source": [
    "DIR=''\n",
    "LIST='list'"
   ]
  },
  {
   "cell_type": "markdown",
   "metadata": {},
   "source": [
    "Read pegase files into dictionary. \n",
    "Structure of the file:\n",
    "- it must have Mgas and Zgas named columns"
   ]
  },
  {
   "cell_type": "code",
   "execution_count": 4,
   "metadata": {
    "collapsed": false
   },
   "outputs": [
    {
     "name": "stdout",
     "output_type": "stream",
     "text": [
      " time   Mgal      M*       MWD     MBHNS    Msub     Mgas     Zgas   <Z*>mass <Z*>Lbol\n",
      "    1 .100E+01 .100E+01 .000E+00 .000E+00 .000E+00 .000E+00 .000E+00 .100E-03 .100E-03\n",
      "    5 .100E+01 .987E+00 .000E+00 .161E-02 .000E+00 .113E-01 .199E+00 .100E-03 .100E-03\n",
      "   10 .100E+01 .968E+00 .000E+00 .327E-02 .000E+00 .289E-01 .200E+00 .100E-03 .100E-03\n",
      "   15 .100E+01 .956E+00 .000E+00 .447E-02 .000E+00 .397E-01 .174E+00 .100E-03 .100E-03\n",
      "   20 .100E+01 .947E+00 .000E+00 .540E-02 .000E+00 .474E-01 .155E+00 .100E-03 .100E-03\n",
      "   25 .100E+01 .940E+00 .000E+00 .619E-02 .000E+00 .535E-01 .142E+00 .100E-03 .100E-03\n",
      "   30 .100E+01 .934E+00 .000E+00 .696E-02 .000E+00 .588E-01 .133E+00 .100E-03 .100E-03\n",
      "   35 .100E+01 .929E+00 .000E+00 .771E-02 .000E+00 .634E-01 .127E+00 .100E-03 .100E-03\n",
      "   40 .100E+01 .924E+00 .000E+00 .840E-02 .000E+00 .673E-01 .122E+00 .100E-03 .100E-03\n"
     ]
    }
   ],
   "source": [
    "fobj=open('/home/tadas/RUN_leoA/pegase/cl_colors_0001.dat')\n",
    "for i, line in zip(range(10), fobj):\n",
    "    print line.rstrip()\n",
    "fobj.close()"
   ]
  },
  {
   "cell_type": "code",
   "execution_count": 5,
   "metadata": {
    "collapsed": false
   },
   "outputs": [
    {
     "name": "stdout",
     "output_type": "stream",
     "text": [
      "0.0001 cl_colors_0001.dat\n",
      "0.0008 cl_colors_0008.dat\n",
      "0.0016 cl_colors_0016.dat\n",
      "0.0024 cl_colors_0024.dat\n",
      "0.0032 cl_colors_0032.dat\n",
      "0.0040 cl_colors_0040.dat\n",
      "0.0048 cl_colors_0048.dat\n",
      "0.0056 cl_colors_0056.dat\n"
     ]
    }
   ],
   "source": [
    "DATA={}\n",
    "Z_LIST=[]\n",
    "for line in open(DIR+LIST,'r'):\n",
    "    # deriving metalicity form the file name\n",
    "    # if the file names are significantly different, this could fail\n",
    "    z=line.split()[0]\n",
    "    name=line.split()[1]\n",
    "    Z_LIST.append(z)\n",
    "    DATA[z]=genfromtxt(DIR+name,names=True)\n",
    "    print DIR+line.rstrip()"
   ]
  },
  {
   "cell_type": "markdown",
   "metadata": {},
   "source": [
    "Read ages file"
   ]
  },
  {
   "cell_type": "code",
   "execution_count": 6,
   "metadata": {
    "collapsed": false
   },
   "outputs": [],
   "source": [
    "AGES=genfromtxt(DIR+'ages.dat')"
   ]
  },
  {
   "cell_type": "code",
   "execution_count": 7,
   "metadata": {
    "collapsed": false
   },
   "outputs": [],
   "source": [
    "DAGES=zeros(AGES.size)\n",
    "DAGES[0]=5.\n",
    "DAGES[1:]=AGES[1:]-AGES[0:-1]\n",
    "DAGES[1]=5.\n",
    "DAGES=DAGES/5."
   ]
  },
  {
   "cell_type": "markdown",
   "metadata": {},
   "source": [
    "Calculate differential gas and metalicity evolution"
   ]
  },
  {
   "cell_type": "code",
   "execution_count": 8,
   "metadata": {
    "collapsed": false
   },
   "outputs": [],
   "source": [
    "eMGAS={}\n",
    "eZGAS={}\n",
    "for key in DATA:\n",
    "    eMGAS[key]=zeros(DATA[key].size)\n",
    "    eZGAS[key]=zeros(DATA[key].size)\n",
    "    eMGAS[key][1:]=DATA[key]['Mgas'][1:]-DATA[key]['Mgas'][:-1]\n",
    "    eMGAS[key][0]=DATA[key]['Mgas'][0]\n",
    "    eZGAS[key][1:]=DATA[key]['Mgas'][1:]*DATA[key]['Zgas'][1:]\\\n",
    "    -DATA[key]['Mgas'][:-1]*DATA[key]['Zgas'][:-1]\n",
    "    eZGAS[key][0]=DATA[key]['Mgas'][0]*DATA[key]['Zgas'][0]"
   ]
  },
  {
   "cell_type": "markdown",
   "metadata": {},
   "source": [
    "In the Pegase output, after calculation of differential evolution negative values apear, these cannot be passed to the model"
   ]
  },
  {
   "cell_type": "code",
   "execution_count": 9,
   "metadata": {
    "collapsed": false
   },
   "outputs": [],
   "source": [
    "Z_TARGET=0.0001 # the lowes alowed metallicity of the returned gas\n",
    "for key in DATA:\n",
    "    DEFICIT=0.\n",
    "    for i in range(eZGAS[key].size):\n",
    "        if eZGAS[key][i] < Z_TARGET*eMGAS[key][i]:\n",
    "            #print i,DEFICIT,eZGAS[key][i],\n",
    "            DEFICIT+=abs(eZGAS[key][i]-Z_TARGET*eMGAS[key][i])\n",
    "            eZGAS[key][i]=Z_TARGET*eMGAS[key][i]\n",
    "            #print DEFICIT,eZGAS[key][i]\n",
    "        elif eZGAS[key][i] > Z_TARGET*eMGAS[key][i]:\n",
    "            if DEFICIT > (eZGAS[key][i]-Z_TARGET*eMGAS[key][i]):\n",
    "                #print i,DEFICIT,eZGAS[key][i],\n",
    "                DEFICIT-=(eZGAS[key][i]-Z_TARGET*eMGAS[key][i])\n",
    "                eZGAS[key][i]=Z_TARGET*eMGAS[key][i]\n",
    "                #print DEFICIT,eZGAS[key][i]\n",
    "            elif DEFICIT < (eZGAS[key][i]-Z_TARGET*eMGAS[key][i]):\n",
    "                #print i,DEFICIT,eZGAS[key][i],\n",
    "                eZGAS[key][i]-=DEFICIT\n",
    "                DEFICIT=0\n",
    "                #print DEFICIT,eZGAS[key][i]"
   ]
  },
  {
   "cell_type": "markdown",
   "metadata": {},
   "source": [
    "For consistency check, integrate differential gas and metalicity evolution"
   ]
  },
  {
   "cell_type": "code",
   "execution_count": 10,
   "metadata": {
    "collapsed": false
   },
   "outputs": [],
   "source": [
    "iMGAS={}\n",
    "iZGAS={}\n",
    "for key in DATA:\n",
    "    iMGAS[key]=zeros(AGES.shape)\n",
    "    iZGAS[key]=zeros(AGES.shape)\n",
    "    idx=1\n",
    "    for t,ti in zip(DATA[key]['time'],range(DATA[key]['time'].size)):\n",
    "        if t<AGES[idx]:\n",
    "            iMGAS[key][idx-1]+=eMGAS[key][ti]\n",
    "            iZGAS[key][idx-1]+=eZGAS[key][ti]\n",
    "        elif t >= AGES[idx] and idx+1 < AGES.size:\n",
    "            idx+=1\n",
    "            iMGAS[key][idx-1]+=eMGAS[key][ti]\n",
    "            iZGAS[key][idx-1]+=eZGAS[key][ti]\n",
    "    iMGAS[key][-1]=iMGAS[key][-2]\n",
    "    iZGAS[key][-1]=iZGAS[key][-2]"
   ]
  },
  {
   "cell_type": "markdown",
   "metadata": {},
   "source": [
    "Kompare integrated gas and metalicity evolution with pegase output"
   ]
  },
  {
   "cell_type": "code",
   "execution_count": 11,
   "metadata": {
    "collapsed": false
   },
   "outputs": [
    {
     "name": "stderr",
     "output_type": "stream",
     "text": [
      "/usr/local/lib/python2.7/dist-packages/ipykernel/__main__.py:10: RuntimeWarning: invalid value encountered in divide\n"
     ]
    }
   ],
   "source": [
    "for key in Z_LIST:\n",
    "    fig,ax=plt.subplots(nrows=2,ncols=1,figsize=(10,10),dpi=150)\n",
    "    ax[0].set_title(\"Mgas :\"+str(sum(iMGAS[key]))+\" \"+str(DATA[key]['Mgas'][-1]))\n",
    "    ax[0].plot(DATA[key]['time'],DATA[key]['Mgas'])\n",
    "    ax[0].plot(AGES,cumsum(iMGAS[key]),\"ok\",markersize=5)\n",
    "    ax[0].set_xscale('log')\n",
    "\n",
    "    ax[1].set_title(\"Zgas :\"+str(sum(iZGAS[key])/sum(iMGAS[key]))[0:5]+\" \"+str(DATA[key]['Zgas'][-1]))\n",
    "    ax[1].plot(DATA[key]['time'],DATA[key]['Zgas'])\n",
    "    ax[1].plot(AGES,cumsum(iZGAS[key])/cumsum(iMGAS[key]),\"ok\",markersize=5,mfc='none')\n",
    "    ax[1].set_xscale('log')\n",
    "    fig.savefig(DIR+key+\"_zlist8.png\")\n",
    "    plt.close()"
   ]
  },
  {
   "cell_type": "markdown",
   "metadata": {},
   "source": [
    "Prepare pegase output"
   ]
  },
  {
   "cell_type": "code",
   "execution_count": 12,
   "metadata": {
    "collapsed": false
   },
   "outputs": [],
   "source": [
    "MGAS_MATRIX=zeros((AGES.size,len(Z_LIST)))\n",
    "ZGAS_MATRIX=zeros((AGES.size,len(Z_LIST)))\n",
    "for zidx, idx in zip(Z_LIST,range(len(Z_LIST))):\n",
    "    MGAS_MATRIX[:,idx]=iMGAS[zidx]/DAGES\n",
    "    ZGAS_MATRIX[:,idx]=iZGAS[zidx]/DAGES"
   ]
  },
  {
   "cell_type": "markdown",
   "metadata": {},
   "source": [
    "Write output files"
   ]
  },
  {
   "cell_type": "code",
   "execution_count": 13,
   "metadata": {
    "collapsed": false
   },
   "outputs": [],
   "source": [
    "savetxt(DIR+\"MGAS_densez8_a2600.PEGASE\",MGAS_MATRIX,fmt=\"%.5e\")\n",
    "savetxt(DIR+\"ZGAS_densez8_a2600.PEGASE\",ZGAS_MATRIX,fmt=\"%.5e\")"
   ]
  },
  {
   "cell_type": "markdown",
   "metadata": {},
   "source": [
    "Check the distribution of metallicities in the output files"
   ]
  },
  {
   "cell_type": "code",
   "execution_count": 14,
   "metadata": {
    "collapsed": false
   },
   "outputs": [
    {
     "data": {
      "image/png": "[encoded data removed]",
      "text/plain": [
       "<matplotlib.figure.Figure at 0x7fcc7c9dc9d0>"
      ]
     },
     "metadata": {},
     "output_type": "display_data"
    }
   ],
   "source": [
    "zer=(ZGAS_MATRIX!=0)\n",
    "zer1=(MGAS_MATRIX!=0)\n",
    "div=ZGAS_MATRIX[zer]/MGAS_MATRIX[zer]\n",
    "dump=hist(log10(div.flat),bins=100)"
   ]
  }
 ],
 "metadata": {
  "kernelspec": {
   "display_name": "Python 2",
   "language": "python",
   "name": "python2"
  },
  "language_info": {
   "codemirror_mode": {
    "name": "ipython",
    "version": 2
   },
   "file_extension": ".py",
   "mimetype": "text/x-python",
   "name": "python",
   "nbconvert_exporter": "python",
   "pygments_lexer": "ipython2",
   "version": "2.7.6"
  }
 },
 "nbformat": 4,
 "nbformat_minor": 0
}
